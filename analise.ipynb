{
 "cells": [
  {
   "cell_type": "markdown",
   "id": "9d17c626",
   "metadata": {},
   "source": [
    "* **id**: id da vaga \n",
    "* **companyId**: id da empresa \n",
    "* **name**: titulo da vaga \n",
    "* **description**: Descricao sobre a vaga\n",
    "* **careerPageName**: Nome da empresa que esta publicando a vaga \n",
    "* **type**: tipo de contratacao \n",
    "* **publishedDate**: data que a vaga foi publicada \n",
    "* **applicationDeadline**: data limite para se aplicar para a vaga\n",
    "* **isRemoteWork**: se a vaga e de modelo remoto \n",
    "* **city**: cidade que a vaga foi publicada\n",
    "* **state**: estado que a vaga foi publicada\n",
    "* **country**: pais que a vaga foi publicada\n",
    "* **disabilities**: se a vaga e elegivel para pcd's"
   ]
  },
  {
   "cell_type": "code",
   "execution_count": 1,
   "id": "1d354975",
   "metadata": {},
   "outputs": [],
   "source": [
    "#importando as libs necessarias para a analise\n",
    "import pandas as pd\n",
    "import matplotlib.pyplot as plt\n",
    "import seaborn as sns\n",
    "from unidecode import unidecode\n",
    "from nltk.tokenize import word_tokenize\n",
    "from collections import Counter\n",
    "from nltk.corpus import stopwords\n",
    "import re\n",
    "import nltk\n",
    "pd.set_option(\"display.max_rows\", 100)"
   ]
  },
  {
   "cell_type": "code",
   "execution_count": 2,
   "id": "4f29ec55",
   "metadata": {},
   "outputs": [],
   "source": [
    "#salvando os dados em um dataframe pandas\n",
    "df = pd.read_csv('jobs.csv', sep = ',', encoding = 'utf-8' )"
   ]
  },
  {
   "cell_type": "code",
   "execution_count": 3,
   "id": "80b056e0",
   "metadata": {},
   "outputs": [
    {
     "name": "stdout",
     "output_type": "stream",
     "text": [
      "coletamos um total de : 15898 vagas\n"
     ]
    }
   ],
   "source": [
    "print(f'coletamos um total de : {df.shape[0]} vagas')"
   ]
  },
  {
   "cell_type": "code",
   "execution_count": 4,
   "id": "242de54c",
   "metadata": {},
   "outputs": [
    {
     "data": {
      "text/plain": [
       "Index(['id', 'companyId', 'name', 'description', 'careerPageName', 'type',\n",
       "       'publishedDate', 'applicationDeadline', 'isRemoteWork', 'city', 'state',\n",
       "       'country', 'disabilities'],\n",
       "      dtype='object')"
      ]
     },
     "execution_count": 4,
     "metadata": {},
     "output_type": "execute_result"
    }
   ],
   "source": [
    "df.columns"
   ]
  },
  {
   "cell_type": "code",
   "execution_count": 5,
   "id": "2e85baac",
   "metadata": {},
   "outputs": [
    {
     "data": {
      "text/html": [
       "<div>\n",
       "<style scoped>\n",
       "    .dataframe tbody tr th:only-of-type {\n",
       "        vertical-align: middle;\n",
       "    }\n",
       "\n",
       "    .dataframe tbody tr th {\n",
       "        vertical-align: top;\n",
       "    }\n",
       "\n",
       "    .dataframe thead th {\n",
       "        text-align: right;\n",
       "    }\n",
       "</style>\n",
       "<table border=\"1\" class=\"dataframe\">\n",
       "  <thead>\n",
       "    <tr style=\"text-align: right;\">\n",
       "      <th></th>\n",
       "      <th>id</th>\n",
       "      <th>companyId</th>\n",
       "      <th>name</th>\n",
       "      <th>description</th>\n",
       "      <th>careerPageName</th>\n",
       "      <th>type</th>\n",
       "      <th>publishedDate</th>\n",
       "      <th>applicationDeadline</th>\n",
       "      <th>isRemoteWork</th>\n",
       "      <th>city</th>\n",
       "      <th>state</th>\n",
       "      <th>country</th>\n",
       "      <th>disabilities</th>\n",
       "    </tr>\n",
       "  </thead>\n",
       "  <tbody>\n",
       "    <tr>\n",
       "      <th>0</th>\n",
       "      <td>5301231</td>\n",
       "      <td>47789</td>\n",
       "      <td>Pessoa Estagiária Superior Administrativo</td>\n",
       "      <td>Na Britvic Brasil trabalhamos com a missão de ...</td>\n",
       "      <td>Britvic Brasil</td>\n",
       "      <td>vacancy_type_internship</td>\n",
       "      <td>2023-08-26T14:26:12.766Z</td>\n",
       "      <td>NaN</td>\n",
       "      <td>False</td>\n",
       "      <td>Araguari</td>\n",
       "      <td>Minas Gerais</td>\n",
       "      <td>Brasil</td>\n",
       "      <td>False</td>\n",
       "    </tr>\n",
       "    <tr>\n",
       "      <th>1</th>\n",
       "      <td>5334728</td>\n",
       "      <td>49570</td>\n",
       "      <td>Estágio em Produção de Conteúdo</td>\n",
       "      <td>Se você curte criação e projetos inovadores na...</td>\n",
       "      <td>Escola São Domingos &amp; Sundays</td>\n",
       "      <td>vacancy_type_internship</td>\n",
       "      <td>2023-08-26T13:50:17.030Z</td>\n",
       "      <td>NaN</td>\n",
       "      <td>False</td>\n",
       "      <td>Vitória</td>\n",
       "      <td>Espírito Santo</td>\n",
       "      <td>Brasil</td>\n",
       "      <td>True</td>\n",
       "    </tr>\n",
       "    <tr>\n",
       "      <th>2</th>\n",
       "      <td>5342661</td>\n",
       "      <td>46105</td>\n",
       "      <td>Estágio em Estilo</td>\n",
       "      <td>Somos mais de 350 #Icommnicos - venha ser um t...</td>\n",
       "      <td>Icomm Group</td>\n",
       "      <td>vacancy_type_internship</td>\n",
       "      <td>2023-08-25T22:57:41.120Z</td>\n",
       "      <td>2023-09-19T00:00:00.000Z</td>\n",
       "      <td>False</td>\n",
       "      <td>São Paulo</td>\n",
       "      <td>São Paulo</td>\n",
       "      <td>Brasil</td>\n",
       "      <td>True</td>\n",
       "    </tr>\n",
       "    <tr>\n",
       "      <th>3</th>\n",
       "      <td>5246533</td>\n",
       "      <td>294</td>\n",
       "      <td>Estágio em Operações</td>\n",
       "      <td>Somos uma empresa de tecnologia movida por nos...</td>\n",
       "      <td>Grupo Petlove</td>\n",
       "      <td>vacancy_type_internship</td>\n",
       "      <td>2023-08-25T22:06:20.089Z</td>\n",
       "      <td>2023-09-18T00:00:00.000Z</td>\n",
       "      <td>False</td>\n",
       "      <td>São Paulo</td>\n",
       "      <td>São Paulo</td>\n",
       "      <td>Brasil</td>\n",
       "      <td>True</td>\n",
       "    </tr>\n",
       "    <tr>\n",
       "      <th>4</th>\n",
       "      <td>5342369</td>\n",
       "      <td>1716</td>\n",
       "      <td>Estágio de Aprovação de Pessoas candidatas</td>\n",
       "      <td>Você tem calafrios só de pensar em trabalho se...</td>\n",
       "      <td>GeekHunter 💜</td>\n",
       "      <td>vacancy_type_internship</td>\n",
       "      <td>2023-08-25T21:40:50.194Z</td>\n",
       "      <td>NaN</td>\n",
       "      <td>True</td>\n",
       "      <td>NaN</td>\n",
       "      <td>Santa Catarina</td>\n",
       "      <td>Brasil</td>\n",
       "      <td>True</td>\n",
       "    </tr>\n",
       "  </tbody>\n",
       "</table>\n",
       "</div>"
      ],
      "text/plain": [
       "        id  companyId                                        name  \\\n",
       "0  5301231      47789   Pessoa Estagiária Superior Administrativo   \n",
       "1  5334728      49570            Estágio em Produção de Conteúdo    \n",
       "2  5342661      46105                           Estágio em Estilo   \n",
       "3  5246533        294                        Estágio em Operações   \n",
       "4  5342369       1716  Estágio de Aprovação de Pessoas candidatas   \n",
       "\n",
       "                                         description  \\\n",
       "0  Na Britvic Brasil trabalhamos com a missão de ...   \n",
       "1  Se você curte criação e projetos inovadores na...   \n",
       "2  Somos mais de 350 #Icommnicos - venha ser um t...   \n",
       "3  Somos uma empresa de tecnologia movida por nos...   \n",
       "4  Você tem calafrios só de pensar em trabalho se...   \n",
       "\n",
       "                  careerPageName                     type  \\\n",
       "0                 Britvic Brasil  vacancy_type_internship   \n",
       "1  Escola São Domingos & Sundays  vacancy_type_internship   \n",
       "2                    Icomm Group  vacancy_type_internship   \n",
       "3                  Grupo Petlove  vacancy_type_internship   \n",
       "4                   GeekHunter 💜  vacancy_type_internship   \n",
       "\n",
       "              publishedDate       applicationDeadline  isRemoteWork  \\\n",
       "0  2023-08-26T14:26:12.766Z                       NaN         False   \n",
       "1  2023-08-26T13:50:17.030Z                       NaN         False   \n",
       "2  2023-08-25T22:57:41.120Z  2023-09-19T00:00:00.000Z         False   \n",
       "3  2023-08-25T22:06:20.089Z  2023-09-18T00:00:00.000Z         False   \n",
       "4  2023-08-25T21:40:50.194Z                       NaN          True   \n",
       "\n",
       "        city           state country disabilities  \n",
       "0   Araguari    Minas Gerais  Brasil        False  \n",
       "1    Vitória  Espírito Santo  Brasil         True  \n",
       "2  São Paulo       São Paulo  Brasil         True  \n",
       "3  São Paulo       São Paulo  Brasil         True  \n",
       "4        NaN  Santa Catarina  Brasil         True  "
      ]
     },
     "execution_count": 5,
     "metadata": {},
     "output_type": "execute_result"
    }
   ],
   "source": [
    "df.head()"
   ]
  },
  {
   "cell_type": "code",
   "execution_count": 6,
   "id": "6dd99ad5",
   "metadata": {},
   "outputs": [
    {
     "data": {
      "image/png": "[encoded data removed]",
      "text/plain": [
       "<Figure size 432x288 with 1 Axes>"
      ]
     },
     "metadata": {
      "needs_background": "light"
     },
     "output_type": "display_data"
    }
   ],
   "source": [
    "sns.heatmap(df.isnull(), yticklabels = False, cbar = False);"
   ]
  },
  {
   "cell_type": "markdown",
   "id": "75c5fac9",
   "metadata": {},
   "source": [
    "podemos observar que maioria das vagas não divulgam a data limite para se aplicar, acredito eu que as empresas já tenham a data pré-definida mas pode haver imprevistos ou por algum tipo de estrategia optam por não divulgar.\n",
    "\n",
    "e também que há alguns valores faltantes nas tabelas de região da vaga(cidade/estado/pais) isso pode ser porque publicam a vaga com uma das 3 informações e pode-se subentender as outras, ou porque a vaga é de modelo remoto(analisaremos depois). \n"
   ]
  },
  {
   "cell_type": "code",
   "execution_count": 7,
   "id": "a1c5eb2c",
   "metadata": {},
   "outputs": [
    {
     "name": "stdout",
     "output_type": "stream",
     "text": [
      "<class 'pandas.core.frame.DataFrame'>\n",
      "RangeIndex: 15898 entries, 0 to 15897\n",
      "Data columns (total 13 columns):\n",
      " #   Column               Non-Null Count  Dtype \n",
      "---  ------               --------------  ----- \n",
      " 0   id                   15898 non-null  int64 \n",
      " 1   companyId            15898 non-null  int64 \n",
      " 2   name                 15898 non-null  object\n",
      " 3   description          15898 non-null  object\n",
      " 4   careerPageName       15898 non-null  object\n",
      " 5   type                 15898 non-null  object\n",
      " 6   publishedDate        15898 non-null  object\n",
      " 7   applicationDeadline  1907 non-null   object\n",
      " 8   isRemoteWork         15898 non-null  bool  \n",
      " 9   city                 15157 non-null  object\n",
      " 10  state                14879 non-null  object\n",
      " 11  country              15223 non-null  object\n",
      " 12  disabilities         15784 non-null  object\n",
      "dtypes: bool(1), int64(2), object(10)\n",
      "memory usage: 1.5+ MB\n"
     ]
    }
   ],
   "source": [
    "df.info()"
   ]
  },
  {
   "cell_type": "markdown",
   "id": "91f05667",
   "metadata": {},
   "source": [
    "vemos que há a necessidade de transformar o tipo das colunas publishedDate e applicationDeadline em data."
   ]
  },
  {
   "cell_type": "code",
   "execution_count": 8,
   "id": "8b40b930",
   "metadata": {},
   "outputs": [],
   "source": [
    "#convertentendo colunas para o formato datetime\n",
    "df['publishedDate'] = pd.to_datetime(df['publishedDate'])\n",
    "df['applicationDeadline'] = pd.to_datetime(df['applicationDeadline'])"
   ]
  },
  {
   "cell_type": "markdown",
   "id": "4b887ba2",
   "metadata": {},
   "source": [
    "# EDA"
   ]
  },
  {
   "cell_type": "code",
   "execution_count": 9,
   "id": "fea2326d",
   "metadata": {},
   "outputs": [],
   "source": [
    "company_count = df['careerPageName'].value_counts()"
   ]
  },
  {
   "cell_type": "code",
   "execution_count": 10,
   "id": "1bc19902",
   "metadata": {},
   "outputs": [
    {
     "data": {
      "text/plain": [
       "Cogna Educação                                                                 299\n",
       "Itaú Unibanco                                                                  248\n",
       "Raízen                                                                         225\n",
       "Stefanini Group                                                                209\n",
       "PagBank                                                                        193\n",
       "                                                                              ... \n",
       "Confidencial - Empresa do Segmento de Bens de Consumo                            1\n",
       "Thymos Energia                                                                   1\n",
       "Oportunidade                                                                     1\n",
       "Buriti Empreendimentos                                                           1\n",
       "Hospital e Maternidade Municipal Dr. Odelmo Leão Carneiro - SPDM Afiliadas       1\n",
       "Name: careerPageName, Length: 2602, dtype: int64"
      ]
     },
     "execution_count": 10,
     "metadata": {},
     "output_type": "execute_result"
    }
   ],
   "source": [
    "company_count"
   ]
  },
  {
   "cell_type": "code",
   "execution_count": 11,
   "id": "080487d8",
   "metadata": {},
   "outputs": [
    {
     "data": {
      "text/plain": [
       "Cogna Educação                    299\n",
       "Itaú Unibanco                     248\n",
       "Raízen                            225\n",
       "Stefanini Group                   209\n",
       "PagBank                           193\n",
       "Unidades V4 Company               168\n",
       "Confidencial                      152\n",
       "Vem Pra Vivo!                     139\n",
       "Vivo Diversidade                  115\n",
       "EuroChem                          107\n",
       "J&T Express Brasil                100\n",
       "POP Trade                          91\n",
       "EMS                                83\n",
       "NAVA | Technology for Business     81\n",
       "Infotec Brasil                     78\n",
       "Sicredi                            77\n",
       "Energisa Estágio                   70\n",
       "Unidas                             66\n",
       "Seja Globalweb                     65\n",
       "Renault do Brasil                  57\n",
       "Name: careerPageName, dtype: int64"
      ]
     },
     "execution_count": 11,
     "metadata": {},
     "output_type": "execute_result"
    }
   ],
   "source": [
    "top_20 = company_count.head(20)\n",
    "top_20"
   ]
  },
  {
   "cell_type": "markdown",
   "id": "6c08fc81",
   "metadata": {},
   "source": [
    "essa são as 20 empresas que mais estão com vagas disponiveis na nossa busca"
   ]
  },
  {
   "cell_type": "code",
   "execution_count": 12,
   "id": "2ef60f2e",
   "metadata": {},
   "outputs": [],
   "source": [
    "job_lvl = df['type'].value_counts()\n",
    "percent_job_lvl = ( job_lvl / len(df) ) * 100"
   ]
  },
  {
   "cell_type": "code",
   "execution_count": 13,
   "id": "8e16a469",
   "metadata": {},
   "outputs": [
    {
     "data": {
      "text/plain": [
       "vacancy_type_effective      74.097371\n",
       "vacancy_type_internship     12.900994\n",
       "vacancy_type_talent_pool     5.944144\n",
       "vacancy_legal_entity         4.006793\n",
       "vacancy_type_temporary       1.773808\n",
       "vacancy_type_associate       0.654170\n",
       "vacancy_type_autonomous      0.289345\n",
       "vacancy_type_freelancer      0.125802\n",
       "vacancy_type_parter          0.075481\n",
       "vacancy_type_outsource       0.069191\n",
       "vacancy_type_apprentice      0.056611\n",
       "vacancy_type_trainee         0.006290\n",
       "Name: type, dtype: float64"
      ]
     },
     "execution_count": 13,
     "metadata": {},
     "output_type": "execute_result"
    }
   ],
   "source": [
    "percent_job_lvl"
   ]
  },
  {
   "cell_type": "code",
   "execution_count": 14,
   "id": "8ef2e539",
   "metadata": {},
   "outputs": [
    {
     "data": {
      "image/png": "[encoded data removed]",
      "text/plain": [
       "<Figure size 720x432 with 1 Axes>"
      ]
     },
     "metadata": {},
     "output_type": "display_data"
    }
   ],
   "source": [
    "percent_job_lvl = percent_job_lvl.sort_values(ascending=False)\n",
    "\n",
    "sns.set(style='whitegrid')\n",
    "\n",
    "plt.figure(figsize=(10, 6))\n",
    "ax = sns.barplot(x=percent_job_lvl.values, y=percent_job_lvl.index)\n",
    "\n",
    "for index, value in enumerate(percent_job_lvl):\n",
    "    ax.text(value + 1, index, f'{value:.2f}%', va='center', color='black')\n",
    "\n",
    "plt.xlabel('Porcentagem (%)')\n",
    "plt.ylabel('Tipo de Contratação')\n",
    "plt.title('Porcentagem de Tipos de Contratação')\n",
    "plt.show()"
   ]
  },
  {
   "cell_type": "markdown",
   "id": "1373c06f",
   "metadata": {},
   "source": [
    "vemos a maioria das vagas são de modelo efetivo, cerca de 74%, cerca de 13% para modelo de estágio e os outros 13% são dividos entre outros modelos de contratação."
   ]
  },
  {
   "cell_type": "code",
   "execution_count": 15,
   "id": "0f8181a6",
   "metadata": {},
   "outputs": [
    {
     "data": {
      "text/plain": [
       "False    86.482576\n",
       "True     13.517424\n",
       "Name: isRemoteWork, dtype: float64"
      ]
     },
     "execution_count": 15,
     "metadata": {},
     "output_type": "execute_result"
    }
   ],
   "source": [
    "remote = (df['isRemoteWork'].value_counts() / len(df)) * 100\n",
    "remote"
   ]
  },
  {
   "cell_type": "markdown",
   "id": "536b1a46",
   "metadata": {},
   "source": [
    "aproximadamente 86% das vagas são de modelo presencial/hibrido e 13,5% são de modelo remoto"
   ]
  },
  {
   "cell_type": "code",
   "execution_count": 16,
   "id": "625464c7",
   "metadata": {},
   "outputs": [
    {
     "data": {
      "text/plain": [
       "True     71.386338\n",
       "False    27.896591\n",
       "Name: disabilities, dtype: float64"
      ]
     },
     "execution_count": 16,
     "metadata": {},
     "output_type": "execute_result"
    }
   ],
   "source": [
    "disabilities = (df['disabilities'].value_counts() / len(df)) * 100\n",
    "disabilities"
   ]
  },
  {
   "cell_type": "markdown",
   "id": "9ca553db",
   "metadata": {},
   "source": [
    "aproximadamente 71% das vagas são elegiveis para pcd's e 27% não."
   ]
  },
  {
   "cell_type": "code",
   "execution_count": 17,
   "id": "7c0a7af5",
   "metadata": {},
   "outputs": [
    {
     "name": "stdout",
     "output_type": "stream",
     "text": [
      "a primeira data é: 2018-05-24 e a ultima: 2023-08-26\n"
     ]
    }
   ],
   "source": [
    "first_date = min(df['publishedDate'].dt.date)\n",
    "last_date = max(df['publishedDate'].dt.date)\n",
    "\n",
    "print(f'a primeira data é: {first_date} e a ultima: {last_date}')"
   ]
  },
  {
   "cell_type": "code",
   "execution_count": 18,
   "id": "0258d3c4",
   "metadata": {},
   "outputs": [],
   "source": [
    "df['year'] = df['publishedDate'].dt.year\n",
    "df['month'] = df['publishedDate'].dt.month"
   ]
  },
  {
   "cell_type": "code",
   "execution_count": 19,
   "id": "0d1a1345",
   "metadata": {},
   "outputs": [
    {
     "name": "stdout",
     "output_type": "stream",
     "text": [
      "2023    15071\n",
      "2022      726\n",
      "2021       78\n",
      "2020       19\n",
      "2019        2\n",
      "2018        2\n",
      "Name: year, dtype: int64\n"
     ]
    }
   ],
   "source": [
    "print(df['year'].value_counts())"
   ]
  },
  {
   "cell_type": "markdown",
   "id": "53ea3eb9",
   "metadata": {},
   "source": [
    "podemos ver que há vagas de até 5 anos atrás, acredito que isso seja algum erro de funcionamento pois dificilmente uma vaga não seria preenchida em tanto tempo"
   ]
  },
  {
   "cell_type": "code",
   "execution_count": 20,
   "id": "3dc47e25",
   "metadata": {},
   "outputs": [],
   "source": [
    "df['days_to_end'] = df['applicationDeadline'] - df['publishedDate']\n",
    "df['days_to_end'] = df['days_to_end'].dt.days"
   ]
  },
  {
   "cell_type": "code",
   "execution_count": 21,
   "id": "81de8ad8",
   "metadata": {},
   "outputs": [
    {
     "data": {
      "text/plain": [
       "count    1907.000000\n",
       "mean       63.787625\n",
       "std       128.854610\n",
       "min         1.000000\n",
       "25%        19.000000\n",
       "50%        34.000000\n",
       "75%        56.000000\n",
       "max      2705.000000\n",
       "Name: days_to_end, dtype: float64"
      ]
     },
     "execution_count": 21,
     "metadata": {},
     "output_type": "execute_result"
    }
   ],
   "source": [
    "df['days_to_end'].describe()"
   ]
  },
  {
   "cell_type": "code",
   "execution_count": 22,
   "id": "104fb73d",
   "metadata": {},
   "outputs": [],
   "source": [
    "days_to_end = df['days_to_end'].dropna()"
   ]
  },
  {
   "cell_type": "code",
   "execution_count": 23,
   "id": "3acb1934",
   "metadata": {
    "scrolled": true
   },
   "outputs": [
    {
     "data": {
      "image/png": "[encoded data removed]",
      "text/plain": [
       "<Figure size 432x288 with 1 Axes>"
      ]
     },
     "metadata": {},
     "output_type": "display_data"
    }
   ],
   "source": [
    "plt.boxplot(days_to_end);"
   ]
  },
  {
   "cell_type": "markdown",
   "id": "948d19e8",
   "metadata": {},
   "source": [
    "observando a distribuição do tempo disponivel da vaga, podemos ver que a nossa média está quase o dobro da mediana isso sugere uma curva com assimetria a direita, indicando valores discrepantes que elevam o valor da média, 75% das vagas tem a duração de até 56 dias enquanto valor maximo chega até 2705 dias, por conta disso utilizaremos a mediana como medida central que indica o valor medio de 34 dias. "
   ]
  },
  {
   "cell_type": "code",
   "execution_count": 24,
   "id": "c13990ab",
   "metadata": {},
   "outputs": [],
   "source": [
    "country_counts = df['country'].value_counts()"
   ]
  },
  {
   "cell_type": "code",
   "execution_count": 25,
   "id": "6dd61613",
   "metadata": {},
   "outputs": [
    {
     "data": {
      "text/plain": [
       "Brasil         15149\n",
       "Argentina         40\n",
       "México             8\n",
       "Colômbia           7\n",
       "Portugal           7\n",
       "Peru               6\n",
       "Paraguai           2\n",
       "Uruguai            2\n",
       "Guatemala          1\n",
       "Reino Unido        1\n",
       "Name: country, dtype: int64"
      ]
     },
     "execution_count": 25,
     "metadata": {},
     "output_type": "execute_result"
    }
   ],
   "source": [
    "country_counts"
   ]
  },
  {
   "cell_type": "markdown",
   "id": "8161f9f4",
   "metadata": {},
   "source": [
    "a grande maioria das vagas é para o brasil mas ainda há algumas vagas internacionais.\n"
   ]
  },
  {
   "cell_type": "code",
   "execution_count": 26,
   "id": "25272dc9",
   "metadata": {},
   "outputs": [],
   "source": [
    "state_counts = (df['state'].value_counts() / len(df)) * 100"
   ]
  },
  {
   "cell_type": "code",
   "execution_count": 27,
   "id": "2d450c96",
   "metadata": {},
   "outputs": [
    {
     "data": {
      "text/plain": [
       "São Paulo              48.458926\n",
       "Minas Gerais            6.755567\n",
       "Rio de Janeiro          6.095106\n",
       "Rio Grande do Sul       5.862373\n",
       "Paraná                  5.824632\n",
       "Santa Catarina          4.874827\n",
       "Goiás                   2.163794\n",
       "Ceará                   2.031702\n",
       "Bahia                   1.736067\n",
       "Distrito Federal        1.578815\n",
       "Mato Grosso             1.484463\n",
       "Espírito Santo          1.434143\n",
       "Pernambuco              1.075607\n",
       "Mato Grosso do Sul      0.754812\n",
       "Pará                    0.710781\n",
       "Maranhão                0.566109\n",
       "Amazonas                0.440307\n",
       "Paraíba                 0.320795\n",
       "Rio Grande do Norte     0.314505\n",
       "Alagoas                 0.257894\n",
       "Rondônia                0.239024\n",
       "Tocantins               0.176123\n",
       "Sergipe                 0.163543\n",
       "Piauí                   0.132092\n",
       "Acre                    0.081771\n",
       "Amapá                   0.037741\n",
       "Roraima                 0.018870\n",
       "Name: state, dtype: float64"
      ]
     },
     "execution_count": 27,
     "metadata": {},
     "output_type": "execute_result"
    }
   ],
   "source": [
    "state_counts"
   ]
  },
  {
   "cell_type": "markdown",
   "id": "2c73fb9e",
   "metadata": {},
   "source": [
    "a região sudeste é a que localiza a maior parte das vagas, somando aproximadamente 63% das vaga, sendo 48% apenas em SP, a segunda região que mais tem vagas é a região sul."
   ]
  },
  {
   "cell_type": "code",
   "execution_count": 28,
   "id": "9e98e70c",
   "metadata": {},
   "outputs": [
    {
     "data": {
      "text/plain": [
       "São Paulo              27.707888\n",
       "Rio de Janeiro          5.025789\n",
       "Belo Horizonte          3.340043\n",
       "Porto Alegre            3.056988\n",
       "Barueri                 3.031828\n",
       "Sao Paulo               2.843125\n",
       "Curitiba                2.622971\n",
       "Campinas                2.100893\n",
       "Fortaleza               1.541074\n",
       "Goiânia                 1.207699\n",
       "Florianópolis           1.044156\n",
       "Brasília                1.000126\n",
       "Salvador                0.905774\n",
       "Jundiaí                 0.748522\n",
       "São José dos Campos     0.742232\n",
       "Recife                  0.742232\n",
       "Blumenau                0.735942\n",
       "Itajaí                  0.710781\n",
       "Ribeirão Preto          0.704491\n",
       "Joinville               0.673041\n",
       "Name: city, dtype: float64"
      ]
     },
     "execution_count": 28,
     "metadata": {},
     "output_type": "execute_result"
    }
   ],
   "source": [
    "citie_counts = (df['city'].value_counts() / len(df)) * 100\n",
    "citie_counts.head(20)  "
   ]
  },
  {
   "cell_type": "markdown",
   "id": "9905d455",
   "metadata": {},
   "source": [
    "a cidade de SP lidera o maior numero de vagas, com cerca de 30%, seguido das capitais dos estados da região sudeste: RJ, BH."
   ]
  },
  {
   "cell_type": "code",
   "execution_count": 29,
   "id": "2c8d9f1c",
   "metadata": {},
   "outputs": [],
   "source": [
    "lvls = {\n",
    "    'senior': ['senior', 'sr'],\n",
    "    'pleno': ['pleno', 'pl'],\n",
    "    'junior': ['junior', 'analista', 'jr'],\n",
    "    'estagio': ['estagio', 'intern', 'estagiaria']}\n",
    "\n",
    "def clear_accent(title):\n",
    "    return unidecode(title)\n",
    "\n",
    "def cat_title(title):\n",
    "    title = title.lower()\n",
    "    for cat, key in lvls.items():\n",
    "        for i in key:\n",
    "            if i in title:\n",
    "                return cat            "
   ]
  },
  {
   "cell_type": "code",
   "execution_count": 30,
   "id": "23a9f072",
   "metadata": {},
   "outputs": [],
   "source": [
    "df['name'] = df['name'].apply(clear_accent)"
   ]
  },
  {
   "cell_type": "code",
   "execution_count": 31,
   "id": "e038658e",
   "metadata": {},
   "outputs": [],
   "source": [
    "df['level'] = df['name'].apply(cat_title)"
   ]
  },
  {
   "cell_type": "code",
   "execution_count": 32,
   "id": "bdc56c6a",
   "metadata": {},
   "outputs": [],
   "source": [
    "lvl_counts = df['level'].value_counts()"
   ]
  },
  {
   "cell_type": "code",
   "execution_count": 33,
   "id": "0cb21e05",
   "metadata": {
    "scrolled": true
   },
   "outputs": [
    {
     "data": {
      "image/png": "[encoded data removed]",
      "text/plain": [
       "<Figure size 576x432 with 1 Axes>"
      ]
     },
     "metadata": {},
     "output_type": "display_data"
    }
   ],
   "source": [
    "plt.figure(figsize=(8, 6))\n",
    "plt.pie(lvl_counts.values, labels=lvl_counts.index, autopct='%1.1f%%', startangle=140)\n",
    "plt.axis('equal')\n",
    "\n",
    "plt.show()"
   ]
  },
  {
   "cell_type": "code",
   "execution_count": 34,
   "id": "5acac530",
   "metadata": {},
   "outputs": [
    {
     "name": "stdout",
     "output_type": "stream",
     "text": [
      "[('analista', 8619), ('estagio', 2364), ('pleno', 2236), ('senior', 1831), ('junior', 1233), ('pessoa', 855), ('banco', 689), ('talentos', 660), ('tecnico', 556), ('marketing', 508), ('consultor', 502), ('negocios', 499), ('desenvolvedor', 477), ('vendas', 438), ('comercial', 437), ('engenharia', 419), ('sao', 407), ('suporte', 383), ('planejamento', 381), ('dados', 376), ('administrativo', 345), ('financeiro', 342), ('qualidade', 310), ('projetos', 306), ('vaga', 296), ('seguranca', 277), ('sistemas', 276), ('pessoas', 271), ('contabil', 270), ('desenvolvimento', 264)]\n"
     ]
    }
   ],
   "source": [
    "titles = df['name']\n",
    "\n",
    "#criando uma lista com as palavras tokenizadas\n",
    "tokens = [word.lower() for title in titles if isinstance(title, str) for word in word_tokenize(title)]\n",
    "tokens = [token for token in tokens if len(token) > 2]  # Remover palavras curtas como jr, pl, sr\n",
    "\n",
    "# Remover stopwords (palavras comuns que não contribuem para a análise)\n",
    "stop_words = set(stopwords.words('portuguese'))\n",
    "filtered_tokens = [word for word in tokens if word not in stop_words]\n",
    "\n",
    "# Contar a frequência de cada palavra\n",
    "word_freq = Counter(filtered_tokens)\n",
    "\n",
    "print(word_freq.most_common(30)) "
   ]
  },
  {
   "cell_type": "markdown",
   "id": "44de9a2d",
   "metadata": {},
   "source": [
    "com uma simples busca de palavras mais frequentes no titulo das vagas podemos observar algumas aréas mais recorrentes como : marketing, negocios, desenvolvimento, vendas, engenharia, planejamento, dados, etc... "
   ]
  },
  {
   "cell_type": "markdown",
   "id": "28fc30bb",
   "metadata": {},
   "source": [
    "# conclusão"
   ]
  },
  {
   "cell_type": "markdown",
   "id": "1f31d61a",
   "metadata": {},
   "source": [
    "## através da nossa análise pudemos extrair algumas informações como:\n",
    "\n",
    "* a grande maioria das vagas optam pelo modelo presencial/hibrido;\n",
    "* 70% das vagas são inclusivas para pcd's;\n",
    "* a grande maioria das vagas está localizada na regiao sudeste, grande parte em SP e também nas capitais.\n",
    "* a maioria das oportunidades é para nivel junior e a minoria para estágio.\n",
    "* há temas recorrentes nos titulos das vagas como: marketing, vendas, desenvolvimento, entre outros."
   ]
  },
  {
   "cell_type": "code",
   "execution_count": null,
   "id": "7d6be7f9",
   "metadata": {},
   "outputs": [],
   "source": []
  }
 ],
 "metadata": {
  "kernelspec": {
   "display_name": "Python 3 (ipykernel)",
   "language": "python",
   "name": "python3"
  },
  "language_info": {
   "codemirror_mode": {
    "name": "ipython",
    "version": 3
   },
   "file_extension": ".py",
   "mimetype": "text/x-python",
   "name": "python",
   "nbconvert_exporter": "python",
   "pygments_lexer": "ipython3",
   "version": "3.10.4"
  }
 },
 "nbformat": 4,
 "nbformat_minor": 5
}
